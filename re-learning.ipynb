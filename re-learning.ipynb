{
 "cells": [
  {
   "cell_type": "code",
   "execution_count": null,
   "id": "d38e2439",
   "metadata": {},
   "outputs": [],
   "source": [
    "import tensorflow as tf\n",
    "import pandas as pd\n",
    "import matplotlib.pyplot as pltl\n",
    "from tensorflow import keras"
   ]
  },
  {
   "cell_type": "markdown",
   "id": "4d8a5158",
   "metadata": {},
   "source": [
    "LOADING THE DATASET"
   ]
  },
  {
   "cell_type": "code",
   "execution_count": null,
   "id": "5d55f5c0",
   "metadata": {},
   "outputs": [],
   "source": [
    "x_train,x_test,y_train,y_test = tf.keras.datasets.mnist.load_data()"
   ]
  },
  {
   "cell_type": "markdown",
   "id": "d5377f3a",
   "metadata": {},
   "source": [
    "PADDING MY INPUT IMAGES"
   ]
  },
  {
   "cell_type": "code",
   "execution_count": null,
   "id": "cfa7ba9d",
   "metadata": {},
   "outputs": [],
   "source": [
    "tf.pad()"
   ]
  },
  {
   "cell_type": "markdown",
   "id": "2efa8a3c",
   "metadata": {},
   "source": [
    "LeNET-5 ARCHITECTURE IMPLEMENTATION"
   ]
  },
  {
   "cell_type": "code",
   "execution_count": null,
   "id": "f96fc8e9",
   "metadata": {},
   "outputs": [],
   "source": [
    "def create_model(name=\"LeNET-5 Architecture\",activation=\"tanh\"):\n",
    "    model = tf.keras.models.Sequential([\n",
    "        keras.layers.Input(shape=(32,32,1)), #In\n",
    "        keras.layers.Conv2D(6,5,activation=activation,strides=1), #C1\n",
    "        keras.layers.AvgPool2D(pool_size=2,strides=2),#S2\n",
    "        keras.layers.Activation(activation),\n",
    "        keras.layers.Conv2D(16,5,activation=activation,strides=1), #C3\n",
    "        keras.layers.AvgPool2D(pool_size=2,strides=2), #S4\n",
    "        keras.layers.Activation(activation),\n",
    "        keras.layers.Conv2D(120,5,activation=activation,strides=1), #C5\n",
    "        keras.layers.Flatten(), #Flattening Layer\n",
    "        keras.layers.Dense(84,activation=activation), #Bottleneck (F6)\n",
    "        keras.layers.Dense(10,activation=\"softmax\") #Output-Layer\n",
    "    ])\n",
    "    model.name= name\n",
    "    model.compile(optimizer=\"adam\",loss=\"sparse_categorical_crossentropy\",metrics=[\"accuracy\"])\n",
    "    return model"
   ]
  },
  {
   "cell_type": "code",
   "execution_count": null,
   "id": "e7abe3a0",
   "metadata": {},
   "outputs": [],
   "source": [
    "model = create_model()"
   ]
  },
  {
   "cell_type": "code",
   "execution_count": null,
   "id": "b5ee1470",
   "metadata": {},
   "outputs": [],
   "source": [
    "model.summary()"
   ]
  }
 ],
 "metadata": {
  "kernelspec": {
   "display_name": "kernel45",
   "language": "python",
   "name": "deeplearning"
  }
 },
 "nbformat": 4,
 "nbformat_minor": 5
}
