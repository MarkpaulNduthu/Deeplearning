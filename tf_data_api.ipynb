{
 "cells": [
  {
   "cell_type": "markdown",
   "id": "78e2bfb7",
   "metadata": {},
   "source": [
    "LEARNING THE TENSORFLOW DATA API"
   ]
  },
  {
   "cell_type": "markdown",
   "id": "5d4660ac",
   "metadata": {},
   "source": [
    "1. CSV DATA FORMAT"
   ]
  },
  {
   "cell_type": "code",
   "execution_count": 11,
   "id": "cb7c58f8",
   "metadata": {},
   "outputs": [],
   "source": [
    "import tensorflow as tf"
   ]
  },
  {
   "cell_type": "code",
   "execution_count": 12,
   "id": "0e77c616",
   "metadata": {},
   "outputs": [],
   "source": [
    "data = tf.range(10)\n",
    "dataset = tf.data.Dataset.from_tensor_slices(data)"
   ]
  },
  {
   "cell_type": "code",
   "execution_count": 13,
   "id": "52568db5",
   "metadata": {},
   "outputs": [],
   "source": [
    "def print_dataset(dataset):\n",
    "    for data in dataset:\n",
    "        print(data)"
   ]
  },
  {
   "cell_type": "markdown",
   "id": "6a119039",
   "metadata": {},
   "source": [
    "CHAINING TRANSFORMATIONS"
   ]
  },
  {
   "cell_type": "code",
   "execution_count": 14,
   "id": "e503dc8d",
   "metadata": {},
   "outputs": [
    {
     "name": "stdout",
     "output_type": "stream",
     "text": [
      "tf.Tensor([0 1 2 3 4 5 6], shape=(7,), dtype=int32)\n",
      "tf.Tensor([7 8 9 0 1 2 3], shape=(7,), dtype=int32)\n",
      "tf.Tensor([4 5 6 7 8 9 0], shape=(7,), dtype=int32)\n",
      "tf.Tensor([1 2 3 4 5 6 7], shape=(7,), dtype=int32)\n",
      "tf.Tensor([8 9], shape=(2,), dtype=int32)\n"
     ]
    }
   ],
   "source": [
    "dataset = dataset.repeat(3).batch(7)\n",
    "print_dataset(dataset)"
   ]
  },
  {
   "cell_type": "code",
   "execution_count": 16,
   "id": "473442dc",
   "metadata": {},
   "outputs": [],
   "source": [
    "dataset = dataset.repeat(3).batch(7,drop_remainder=True)\n",
    "# print_dataset(dataset)"
   ]
  },
  {
   "cell_type": "markdown",
   "id": "d7b8b7e5",
   "metadata": {},
   "source": [
    "MAP METHOD"
   ]
  },
  {
   "cell_type": "code",
   "execution_count": 18,
   "id": "de60ce04",
   "metadata": {},
   "outputs": [],
   "source": [
    "dataset = dataset.map(lambda x: x *2,num_parallel_calls=4)#num_parallel_calls param helps speed things up by spawning mutiple threads\n",
    "# print_dataset(dataset)"
   ]
  },
  {
   "cell_type": "markdown",
   "id": "62a9f2ef",
   "metadata": {},
   "source": [
    "\"\"\"APPLY METHOD:"
   ]
  },
  {
   "cell_type": "markdown",
   "id": "f3e6b225",
   "metadata": {},
   "source": [
    "NOTE: WHILE MAP DOES TRANSFORMATIONS TO EVERY INDIVIDUAL DATA IN THE DATASET APPLY DOES IT TO THE WHOLE DATASET AS AN ENTTY\"\"\""
   ]
  },
  {
   "cell_type": "code",
   "execution_count": 20,
   "id": "9e754c87",
   "metadata": {},
   "outputs": [],
   "source": [
    "dataset = dataset.apply(lambda x :tf.data.Dataset.unbatch(x))\n",
    "# dataset = dataset.unbatch()\n",
    "# print_dataset(dataset)"
   ]
  },
  {
   "cell_type": "markdown",
   "id": "53d7399e",
   "metadata": {},
   "source": [
    "FILTER METHOD"
   ]
  },
  {
   "cell_type": "code",
   "execution_count": 23,
   "id": "5625b6c3",
   "metadata": {},
   "outputs": [],
   "source": [
    "# dataset = dataset.filter(lambda x : x<10)\n",
    "# print_dataset(dataset)"
   ]
  },
  {
   "cell_type": "markdown",
   "id": "f9aecb3f",
   "metadata": {},
   "source": [
    "TAKE METHOD"
   ]
  },
  {
   "cell_type": "code",
   "execution_count": null,
   "id": "ac097580",
   "metadata": {},
   "outputs": [],
   "source": [
    "for data in dataset.take(5):\n",
    "    print(data)"
   ]
  },
  {
   "cell_type": "markdown",
   "id": "75fb2010",
   "metadata": {},
   "source": [
    "SHUFFLE METHOD"
   ]
  },
  {
   "cell_type": "code",
   "execution_count": null,
   "id": "9f36baad",
   "metadata": {},
   "outputs": [
    {
     "name": "stdout",
     "output_type": "stream",
     "text": [
      "tf.Tensor([0 2 3 6 7 9 4], shape=(7,), dtype=int64)\n",
      "tf.Tensor([5 0 1 1 8 6 5], shape=(7,), dtype=int64)\n",
      "tf.Tensor([4 8 7 1 2 3 0], shape=(7,), dtype=int64)\n",
      "tf.Tensor([5 4 2 7 8 9 1], shape=(7,), dtype=int64)\n",
      "tf.Tensor([3 6 0 4 6 3 9], shape=(7,), dtype=int64)\n",
      "tf.Tensor([9 2 7 5 3 1 5], shape=(7,), dtype=int64)\n",
      "tf.Tensor([6 0 2 7 4 1 2], shape=(7,), dtype=int64)\n",
      "tf.Tensor([3 8 8 4 9 0 6], shape=(7,), dtype=int64)\n",
      "tf.Tensor([0 9 2 3 7 1 4], shape=(7,), dtype=int64)\n",
      "tf.Tensor([5 6 7 8 5 8 9], shape=(7,), dtype=int64)\n",
      "tf.Tensor([3 5 2 1 8 4 0], shape=(7,), dtype=int64)\n",
      "tf.Tensor([1 2 3 7 9 5 0], shape=(7,), dtype=int64)\n",
      "tf.Tensor([7 4 0 9 6 8 1], shape=(7,), dtype=int64)\n",
      "tf.Tensor([2 6 6 4 9 0 1], shape=(7,), dtype=int64)\n",
      "tf.Tensor([3 7 8 5 4 2 3], shape=(7,), dtype=int64)\n",
      "tf.Tensor([5 8 0 7 1 4 5], shape=(7,), dtype=int64)\n",
      "tf.Tensor([2 3 9 6 9 8 1], shape=(7,), dtype=int64)\n",
      "tf.Tensor([6 0 7 2 5 6 8], shape=(7,), dtype=int64)\n",
      "tf.Tensor([4 0 9 7 4 5 2], shape=(7,), dtype=int64)\n",
      "tf.Tensor([6 7 1 8 9 3 3], shape=(7,), dtype=int64)\n"
     ]
    }
   ],
   "source": [
    "new_dataset = tf.data.Dataset.range(10).repeat(7)\n",
    "new_dataset = new_dataset.shuffle(5,seed=42).repeat(2).batch(7)\n",
    "for item in new_dataset:\n",
    "    print(item)"
   ]
  },
  {
   "cell_type": "markdown",
   "id": "fb6a208c",
   "metadata": {},
   "source": [
    "READING FILES (CSV) FROM FILE SYSTEM"
   ]
  },
  {
   "cell_type": "markdown",
   "id": "706dd916",
   "metadata": {},
   "source": [
    "USING LIST FILES"
   ]
  },
  {
   "cell_type": "code",
   "execution_count": null,
   "id": "b15a8c53",
   "metadata": {},
   "outputs": [
    {
     "data": {
      "text/plain": [
       "<_ShuffleDataset element_spec=TensorSpec(shape=(), dtype=tf.string, name=None)>"
      ]
     },
     "execution_count": 9,
     "metadata": {},
     "output_type": "execute_result"
    }
   ],
   "source": [
    "file_dataset = tf.data.Dataset.list_files(\"C:\\\\Users\\\\Mark Mwema\\\\Desktop\\\\DeepLearning\\\\Churn_Modelling.csv\")\n",
    "file_dataset"
   ]
  },
  {
   "cell_type": "markdown",
   "id": "f24c71b8",
   "metadata": {},
   "source": [
    "Reading from the list files using interleave method to get the text dataset"
   ]
  },
  {
   "cell_type": "code",
   "execution_count": null,
   "id": "590fc5c1",
   "metadata": {},
   "outputs": [],
   "source": [
    "text_data = file_dataset.interleave(\n",
    "    lambda file_path: tf.data.TextLineDataset(file_path).skip(1),\n",
    "    cycle_length=1,\n",
    "    name=\"Churn_modelling_data\"\n",
    ")"
   ]
  },
  {
   "cell_type": "code",
   "execution_count": null,
   "id": "32f1a559",
   "metadata": {},
   "outputs": [
    {
     "name": "stdout",
     "output_type": "stream",
     "text": [
      "tf.Tensor(b'1,15634602,Hargrave,619,France,Female,42,2,0,1,1,1,101348.88,1', shape=(), dtype=string)\n",
      "tf.Tensor(b'2,15647311,Hill,608,Spain,Female,41,1,83807.86,1,0,1,112542.58,0', shape=(), dtype=string)\n",
      "tf.Tensor(b'3,15619304,Onio,502,France,Female,42,8,159660.8,3,1,0,113931.57,1', shape=(), dtype=string)\n",
      "tf.Tensor(b'4,15701354,Boni,699,France,Female,39,1,0,2,0,0,93826.63,0', shape=(), dtype=string)\n",
      "tf.Tensor(b'5,15737888,Mitchell,850,Spain,Female,43,2,125510.82,1,1,1,79084.1,0', shape=(), dtype=string)\n"
     ]
    }
   ],
   "source": [
    "for data in text_data.take(5):\n",
    "    print(data)"
   ]
  },
  {
   "cell_type": "code",
   "execution_count": null,
   "id": "653d3fce",
   "metadata": {},
   "outputs": [
    {
     "data": {
      "text/plain": [
       "<_InterleaveDataset element_spec=TensorSpec(shape=(), dtype=tf.string, name=None)>"
      ]
     },
     "execution_count": 17,
     "metadata": {},
     "output_type": "execute_result"
    }
   ],
   "source": [
    "text_data"
   ]
  },
  {
   "cell_type": "markdown",
   "id": "f6d08fd3",
   "metadata": {},
   "source": [
    "2. TF-RECORD FORMAT"
   ]
  },
  {
   "cell_type": "code",
   "execution_count": null,
   "id": "6e3523ab",
   "metadata": {},
   "outputs": [],
   "source": [
    "file_path = \"\"\"C:\\\\Users\\\\Mark Mwema\\\\Desktop\\\\DeepLearning\\\\myTFRECORD.tfrecord\"\"\""
   ]
  },
  {
   "cell_type": "code",
   "execution_count": null,
   "id": "a5b694b2",
   "metadata": {},
   "outputs": [],
   "source": [
    "with tf.io.TFRecordWriter(file_path) as f:\n",
    "    f.write(\"This is my first tensorflow record data format\")\n",
    "    f.write(\"I long for the day I am able to create projects with this that I learn\")\n",
    "    f.write(\"----------------THANK OU JESUS FOR THIS OPPOURTUNITY-----------------\")"
   ]
  },
  {
   "cell_type": "code",
   "execution_count": null,
   "id": "c2f2a0aa",
   "metadata": {},
   "outputs": [
    {
     "name": "stdout",
     "output_type": "stream",
     "text": [
      "tf.Tensor(b'This is my first tensorflow record data format', shape=(), dtype=string)\n",
      "tf.Tensor(b'I long for the day I am able to create projects with this that I learn', shape=(), dtype=string)\n",
      "tf.Tensor(b'----------------THANK OU JESUS FOR THIS OPPOURTUNITY-----------------', shape=(), dtype=string)\n"
     ]
    }
   ],
   "source": [
    "tfrecord_dataset = tf.data.TFRecordDataset(file_path)\n",
    "for data in tfrecord_dataset:\n",
    "    print(data)"
   ]
  },
  {
   "cell_type": "code",
   "execution_count": null,
   "id": "7d29936c",
   "metadata": {},
   "outputs": [],
   "source": [
    "options = tf.io.TFRecordOptions(compression_type=\"GZIP\")"
   ]
  },
  {
   "cell_type": "code",
   "execution_count": 25,
   "id": "e07b6469",
   "metadata": {},
   "outputs": [],
   "source": [
    "with tf.io.TFRecordWriter(file_path,options=options) as f:\n",
    "    f.write(\"2.\")\n",
    "    f.write(\"This is my first tensorflow record data format\")\n",
    "    f.write(\"I long for the day I am able to create projects with this that I learn\")\n",
    "    f.write(\"----------------THANK YOU JESUS FOR THIS OPPOURTUNITY-----------------\")"
   ]
  },
  {
   "cell_type": "code",
   "execution_count": 28,
   "id": "c1f68659",
   "metadata": {},
   "outputs": [
    {
     "name": "stdout",
     "output_type": "stream",
     "text": [
      "tf.Tensor(b'2.', shape=(), dtype=string)\n",
      "tf.Tensor(b'This is my first tensorflow record data format', shape=(), dtype=string)\n",
      "tf.Tensor(b'I long for the day I am able to create projects with this that I learn', shape=(), dtype=string)\n",
      "tf.Tensor(b'----------------THANK YOU JESUS FOR THIS OPPOURTUNITY-----------------', shape=(), dtype=string)\n"
     ]
    }
   ],
   "source": [
    "tfrecord_dataset = tf.data.TFRecordDataset(file_path,compression_type=\"GZIP\",num_parallel_reads=2)\n",
    "for data in tfrecord_dataset:\n",
    "    print(data)"
   ]
  },
  {
   "cell_type": "markdown",
   "id": "6d32a4c6",
   "metadata": {},
   "source": [
    "PROCOL-BUFFERS (PROTOBUF)"
   ]
  },
  {
   "cell_type": "code",
   "execution_count": null,
   "id": "482078db",
   "metadata": {},
   "outputs": [],
   "source": []
  }
 ],
 "metadata": {
  "kernelspec": {
   "display_name": "kernel45",
   "language": "python",
   "name": "deeplearning"
  },
  "language_info": {
   "codemirror_mode": {
    "name": "ipython",
    "version": 3
   },
   "file_extension": ".py",
   "mimetype": "text/x-python",
   "name": "python",
   "nbconvert_exporter": "python",
   "pygments_lexer": "ipython3",
   "version": "3.12.7"
  }
 },
 "nbformat": 4,
 "nbformat_minor": 5
}
