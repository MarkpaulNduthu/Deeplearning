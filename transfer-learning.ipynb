{
 "cells": [
  {
   "cell_type": "code",
   "execution_count": null,
   "id": "d820a7c0",
   "metadata": {},
   "outputs": [],
   "source": [
    "import tensorflow as tf"
   ]
  },
  {
   "cell_type": "code",
   "execution_count": null,
   "id": "bee62e1c",
   "metadata": {},
   "outputs": [],
   "source": [
    "model_resnet50 = tf.keras.applications.ResNet50(include_top=False,weights=\"imagenet\")"
   ]
  },
  {
   "cell_type": "code",
   "execution_count": null,
   "id": "e050110a",
   "metadata": {},
   "outputs": [],
   "source": [
    "model_xception = tf.keras.applications.Xception(include_top=False,weights=\"imagenet\")"
   ]
  },
  {
   "cell_type": "code",
   "execution_count": null,
   "id": "06634b88",
   "metadata": {},
   "outputs": [],
   "source": [
    "model_resnet50.summary()"
   ]
  },
  {
   "cell_type": "code",
   "execution_count": null,
   "id": "99fbc72d",
   "metadata": {},
   "outputs": [],
   "source": [
    "model_xception.summary()"
   ]
  },
  {
   "cell_type": "markdown",
   "id": "094ac051",
   "metadata": {},
   "source": [
    "MAKING THE LAYERS UNTRAINABLE"
   ]
  },
  {
   "cell_type": "markdown",
   "id": "4a68600f",
   "metadata": {},
   "source": [
    "EXPLORING RESNET50 for classification of my pet data"
   ]
  },
  {
   "cell_type": "code",
   "execution_count": null,
   "id": "03eb69cb",
   "metadata": {},
   "outputs": [],
   "source": []
  },
  {
   "cell_type": "code",
   "execution_count": null,
   "id": "425467a8",
   "metadata": {},
   "outputs": [],
   "source": [
    "for layer in model_resnet50.layers:\n",
    "    layer.trainable = False"
   ]
  }
 ],
 "metadata": {
  "kernelspec": {
   "display_name": "kernel45",
   "language": "python",
   "name": "deeplearning"
  },
  "language_info": {
   "codemirror_mode": {
    "name": "ipython",
    "version": 3
   },
   "file_extension": ".py",
   "mimetype": "text/x-python",
   "name": "python",
   "nbconvert_exporter": "python",
   "pygments_lexer": "ipython3",
   "version": "3.12.7"
  }
 },
 "nbformat": 4,
 "nbformat_minor": 5
}
